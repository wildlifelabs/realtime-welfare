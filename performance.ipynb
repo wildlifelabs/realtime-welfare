{
 "cells": [
  {
   "cell_type": "markdown",
   "id": "cf448ace-bab5-4210-a2a7-7fbf2c217feb",
   "metadata": {
    "papermill": {
     "duration": 0.003634,
     "end_time": "2025-05-15T13:14:49.992544",
     "exception": false,
     "start_time": "2025-05-15T13:14:49.988910",
     "status": "completed"
    },
    "tags": []
   },
   "source": "# Pipeline Performance Analysis\n"
  },
  {
   "cell_type": "markdown",
   "id": "cfcd221d-6fc9-41da-a8b9-cfa0490e6d1e",
   "metadata": {
    "papermill": {
     "duration": 0.002292,
     "end_time": "2025-05-15T13:14:50.002775",
     "exception": false,
     "start_time": "2025-05-15T13:14:50.000483",
     "status": "completed"
    },
    "tags": []
   },
   "source": [
    "* Module Name: performance.ipynb\n",
    "* Description: Evaluate the performance of the Pipeline runner\n",
    "\n",
    "Copyright (C) 2025 J.Cincotta\n",
    "\n",
    "This program is free software: you can redistribute it and/or modify\n",
    "it under the terms of the GNU General Public License as published by\n",
    "the Free Software Foundation, either version 3 of the License, or\n",
    "(at your option) any later version.\n",
    "\n",
    "This program is distributed in the hope that it will be useful,\n",
    "but WITHOUT ANY WARRANTY; without even the implied warranty of\n",
    "MERCHANTABILITY or FITNESS FOR A PARTICULAR PURPOSE. See the\n",
    "GNU General Public License for more details.\n",
    "\n",
    "You should have received a copy of the GNU General Public License\n",
    "along with this program. If not, see <https://www.gnu.org/licenses/>.\n"
   ]
  },
  {
   "cell_type": "code",
   "id": "a17a62c5-b981-403b-922c-184408fade10",
   "metadata": {
    "jupyter": {
     "source_hidden": true
    },
    "papermill": {
     "duration": null,
     "end_time": null,
     "exception": null,
     "start_time": null,
     "status": "pending"
    },
    "scrolled": true,
    "tags": []
   },
   "source": [
    "from welfareobs.utils.performance_monitor import PerformanceMonitor\n",
    "from welfareobs.runner import Runner\n",
    "from welfareobs.utils.config import Config\n",
    "import matplotlib.pyplot as plt\n",
    "\n",
    "\n",
    "cfg: Config = Config(\n",
    "    \"/project/config/non-rtsp-example.json\",\n",
    "    \"/project/welfareobs/welfareobs\"\n",
    ")\n",
    "runner: Runner = Runner(cfg)\n",
    "perf: PerformanceMonitor = runner.performance\n",
    "execution_times = list(perf)\n",
    "\n",
    "# Calculate statistics\n",
    "avg_time = perf.average\n",
    "median_time = perf.median\n",
    "stdev_time = perf.stdev\n",
    "\n",
    "# Create the plot\n",
    "plt.figure(figsize=(10, 6))\n",
    "plt.plot(execution_times)\n",
    "plt.axhline(y=avg_time, color='r', linestyle='-', label=f'Average: {avg_time:.2f} sec')\n",
    "plt.axhline(y=median_time, color='g', linestyle='--', label=f'Median: {median_time:.2f} sec')\n",
    "plt.fill_between(range(len(execution_times)), [t - stdev_time for t in execution_times], [t + stdev_time for t in execution_times], alpha=0.2, label=f'StDev: {stdev_time:.2f} sec')\n",
    "plt.title('Execution Times')\n",
    "plt.xlabel('Run Number')\n",
    "plt.ylabel('Time (seconds)')\n",
    "plt.yscale('linear')\n",
    "plt.legend()\n",
    "plt.show()\n",
    "\n"
   ],
   "outputs": [],
   "execution_count": null
  }
 ],
 "metadata": {
  "kernelspec": {
   "display_name": "Python 3 (ipykernel)",
   "language": "python",
   "name": "python3"
  },
  "language_info": {
   "codemirror_mode": {
    "name": "ipython",
    "version": 3
   },
   "file_extension": ".py",
   "mimetype": "text/x-python",
   "name": "python",
   "nbconvert_exporter": "python",
   "pygments_lexer": "ipython3",
   "version": "3.13.3"
  },
  "papermill": {
   "default_parameters": {},
   "duration": null,
   "end_time": null,
   "environment_variables": {},
   "exception": null,
   "input_path": "pipeline.ipynb",
   "output_path": "pipeline.ipynb",
   "parameters": {},
   "start_time": "2025-05-15T13:14:49.211907",
   "version": "2.6.0"
  }
 },
 "nbformat": 4,
 "nbformat_minor": 5
}
