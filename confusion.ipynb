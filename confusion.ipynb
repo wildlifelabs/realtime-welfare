{
 "cells": [
  {
   "cell_type": "markdown",
   "id": "e6e23adc-328e-4252-869d-1aac8255563b",
   "metadata": {},
   "source": [
    "# Confusion Matrix"
   ]
  },
  {
   "cell_type": "markdown",
   "id": "6ec93019-c3bb-4565-afe2-df67f6cbaac8",
   "metadata": {},
   "source": [
    "* Module Name: confusion.ipynb\n",
    "* Description: generate confusion matrix\n",
    "\n",
    "Copyright (C) 2025 J.Cincotta\n",
    "\n",
    "This program is free software: you can redistribute it and/or modify\n",
    "it under the terms of the GNU General Public License as published by\n",
    "the Free Software Foundation, either version 3 of the License, or\n",
    "(at your option) any later version.\n",
    "\n",
    "This program is distributed in the hope that it will be useful,\n",
    "but WITHOUT ANY WARRANTY; without even the implied warranty of\n",
    "MERCHANTABILITY or FITNESS FOR A PARTICULAR PURPOSE. See the\n",
    "GNU General Public License for more details.\n",
    "\n",
    "You should have received a copy of the GNU General Public License\n",
    "along with this program. If not, see <https://www.gnu.org/licenses/>.\n"
   ]
  },
  {
   "cell_type": "code",
   "execution_count": 1,
   "id": "8d73684f-39ef-4cf2-ba95-5ac6d98c554a",
   "metadata": {},
   "outputs": [],
   "source": [
    "from pyarrow import timestamp\n",
    "from welfareobs.detectron.detectron_configuration import get_configuration\n",
    "from welfareobs.detectron.detectron_calls import image_tensor, predict\n",
    "from welfareobs.detectron.welfareobs_dataset import WelfareObsDataset\n",
    "from detectron2.config import instantiate\n",
    "from detectron2.checkpoint import DetectionCheckpointer\n",
    "from welfareobs.handlers.abstract_handler import AbstractHandler\n",
    "from welfareobs.models.frame import Frame\n",
    "from welfareobs.models.individual import Individual\n",
    "from welfareobs.utils.config import Config\n",
    "from welfareobs.utils.bgr_transform import BGRTransform \n",
    "import matplotlib.pyplot as plt\n",
    "import torchvision.transforms as T\n",
    "import torch\n",
    "import os\n",
    "import itertools\n",
    "import numpy as np\n",
    "from sklearn.datasets import load_digits\n",
    "from sklearn.model_selection import train_test_split\n",
    "from sklearn.neural_network import MLPClassifier\n",
    "from sklearn.metrics import confusion_matrix, ConfusionMatrixDisplay, classification_report, brier_score_loss, roc_auc_score, accuracy_score\n",
    "from sklearn.exceptions import ConvergenceWarning\n",
    "import warnings\n",
    "\n"
   ]
  },
  {
   "cell_type": "code",
   "execution_count": 29,
   "id": "10320433-d63d-488d-aaed-ebd02b533a40",
   "metadata": {},
   "outputs": [],
   "source": [
    "\"\"\"\n",
    "Notebook configuration parameters:\n",
    "\"\"\"\n",
    "config_name = \"config/detection-wod-md.json\" # used in the pipelines\n",
    "num_images = 2000 # total number of images to load\n",
    "batch_size = 250 # batch size (tuned for the GPU)\n"
   ]
  },
  {
   "cell_type": "code",
   "execution_count": 30,
   "id": "6678a74f-dc0f-4d8c-9b91-7b8bea7157b2",
   "metadata": {},
   "outputs": [
    {
     "name": "stdout",
     "output_type": "stream",
     "text": [
      "Configuration set\n"
     ]
    }
   ],
   "source": [
    "\"\"\"\n",
    "Load up the configuration\n",
    "\"\"\"\n",
    "\n",
    "cnf: Config = Config(config_name)\n",
    "dimensions = cnf.as_int(\"dimensions\")\n",
    "reid_model_root = cnf.as_string(\"reid-model-root\")\n",
    "reid_timm_backbone = cnf.as_string(\"reid-timm-backbone\")\n",
    "segmentation_checkpoint = cnf.as_string(\"segmentation-checkpoint\")\n",
    "print(\"Configuration set\")"
   ]
  },
  {
   "cell_type": "code",
   "execution_count": 31,
   "id": "304c0723-49d1-4f56-9904-862d3b07d1a3",
   "metadata": {
    "editable": true,
    "scrolled": true,
    "slideshow": {
     "slide_type": ""
    },
    "tags": []
   },
   "outputs": [
    {
     "name": "stdout",
     "output_type": "stream",
     "text": [
      "Reading model /project/data/results/wod-md.\n"
     ]
    }
   ],
   "source": [
    "\"\"\"\n",
    "Load the model\n",
    "\"\"\"\n",
    "\n",
    "\n",
    "print(f\"Reading model {reid_model_root}.\")\n",
    "model = instantiate(\n",
    "    get_configuration(\n",
    "        reid_model_root,\n",
    "        backbone=reid_timm_backbone,\n",
    "        dimensions=dimensions\n",
    "    )\n",
    ")\n",
    "# then load it with the pretrained backbone\n",
    "DetectionCheckpointer(model).load(segmentation_checkpoint)\n",
    "model.eval()\n",
    "model = model.to(\"cuda\")\n"
   ]
  },
  {
   "cell_type": "code",
   "execution_count": 32,
   "id": "e361aa8a-a442-46e6-9b4b-1bd4dd3e0967",
   "metadata": {},
   "outputs": [],
   "source": [
    "\"\"\"\n",
    "Load the dataset for evaluation\n",
    "\"\"\"\n",
    "\n",
    "\n",
    "dataset=WelfareObsDataset(\n",
    "    root=\"/project/data/wod_reid\",\n",
    "    annotations_file=\"coco_train.json\",   # change this to test against the training data\n",
    "    transform = T.Compose([\n",
    "        T.PILToTensor(), # Convert a PIL Image or ndarray to tensor and scale the values 0->255 to 0.0->1.0\n",
    "        T.Resize(\n",
    "            size=(dimensions,dimensions),\n",
    "            interpolation=T.InterpolationMode.BILINEAR,\n",
    "            max_size=None,\n",
    "            antialias=True\n",
    "        ),\n",
    "        # note that we do NOT normalise the image because that is happening inside Detectron2\n",
    "        BGRTransform()  # since our data source is RGB\n",
    "        # T.Normalize(mean=(0.485, 0.456, 0.406), std=(0.229, 0.224, 0.225)),\n",
    "    ]),\n",
    "    img_load=\"bbox\", # \"bbox_mask\",\n",
    "    col_path=\"path\",\n",
    "    col_label=\"identity\",\n",
    "    load_label=True\n",
    ")\n",
    "\n",
    "\n"
   ]
  },
  {
   "cell_type": "code",
   "execution_count": 33,
   "id": "bb7d7837-198a-4f92-aed4-1b7b339f6391",
   "metadata": {},
   "outputs": [
    {
     "data": {
      "text/plain": [
       "'\\nDump image sample (only works for small values of num_images)\\n'"
      ]
     },
     "execution_count": 33,
     "metadata": {},
     "output_type": "execute_result"
    }
   ],
   "source": [
    "\"\"\"\n",
    "Dump image sample (only works for small values of num_images)\n",
    "\"\"\"\n",
    "# fig, axs = plt.subplots(nrows=num_images, ncols=1, figsize=(10, 10*num_images))\n",
    "# for index, (item, ax) in enumerate(zip(itertools.islice(dataset, num_images),axs)):\n",
    "#     ax.imshow(np.array(item[0]).transpose(1, 2, 0)[ :, : ,[2, 1, 0]])  # \n",
    "#     ax.axis('off')\n"
   ]
  },
  {
   "cell_type": "code",
   "execution_count": 34,
   "id": "e33aa228-add9-4f65-aee5-a544576d3343",
   "metadata": {},
   "outputs": [
    {
     "name": "stdout",
     "output_type": "stream",
     "text": [
      "Batch 0.0\n",
      "Batch 1.0\n",
      "Batch 2.0\n",
      "Batch 3.0\n",
      "Batch 4.0\n",
      "Batch 5.0\n",
      "Batch 6.0\n",
      "Batch 7.0\n"
     ]
    }
   ],
   "source": [
    "known_classes = []\n",
    "prediction_classes = []\n",
    "\n",
    "subset = itertools.islice(dataset, num_images)\n",
    "for i in range(0, num_images, batch_size):\n",
    "    image_tensors = []\n",
    "    print(f\"Batch {i/batch_size}\")\n",
    "    for item in itertools.islice(subset, batch_size):\n",
    "        image_tensors.append(item[0])\n",
    "        known_classes.append(dataset.labels_map[item[1]])\n",
    "    torch.cuda.empty_cache()\n",
    "    if len(image_tensors) > 0:\n",
    "        output = predict(image_tensors, model)\n",
    "        for index, item in enumerate(output):\n",
    "            item = item[\"instances\"]\n",
    "            step_result = 0\n",
    "            if item.has(\"reid_embeddings\"):\n",
    "                _reids = list(item.get(\"reid_embeddings\").cpu().numpy().flatten())\n",
    "                _scores = list(item.get(\"scores\").cpu().numpy())\n",
    "                for i in range(len(item)):\n",
    "                    if _reids[i] != -1:\n",
    "                        step_result = _reids[i]\n",
    "            prediction_classes.append(step_result)\n"
   ]
  },
  {
   "cell_type": "code",
   "execution_count": 35,
   "id": "03d41c82-25f9-42c0-bf26-cbaf341b6c2c",
   "metadata": {},
   "outputs": [],
   "source": [
    "#    print(f\"{index} {known_classes[index]==prediction_classes[index]} {known_classes[index]} {prediction_classes[index]}\")"
   ]
  },
  {
   "cell_type": "code",
   "execution_count": 36,
   "id": "d27cda7b-3877-423f-bb14-d67e6f11b997",
   "metadata": {},
   "outputs": [
    {
     "data": {
      "image/png": "[encoded data removed]",
      "text/plain": [
       "<Figure size 640x480 with 2 Axes>"
      ]
     },
     "metadata": {},
     "output_type": "display_data"
    }
   ],
   "source": [
    "# Generate and display the confusion matrix\n",
    "cm = confusion_matrix(known_classes, prediction_classes)\n",
    "disp = ConfusionMatrixDisplay(confusion_matrix=cm, display_labels=[\"none\", \"zarafa\", \"ebo\", \"jimiyu\", \"kito\"])\n",
    "# disp = ConfusionMatrixDisplay(confusion_matrix=cm)\n",
    "disp.plot(cmap=plt.cm.Blues)\n",
    "plt.title(\"Confusion Matrix (Multiclass)\")\n",
    "plt.show()\n"
   ]
  },
  {
   "cell_type": "code",
   "execution_count": 37,
   "id": "49076551-62a9-4f86-b52b-093a7860396a",
   "metadata": {},
   "outputs": [
    {
     "name": "stdout",
     "output_type": "stream",
     "text": [
      "Accuracy: 0.2450\n"
     ]
    },
    {
     "name": "stderr",
     "output_type": "stream",
     "text": [
      "/usr/local/lib/python3.13/dist-packages/sklearn/metrics/_classification.py:1565: UndefinedMetricWarning: Recall is ill-defined and being set to 0.0 in labels with no true samples. Use `zero_division` parameter to control this behavior.\n",
      "  _warn_prf(average, modifier, f\"{metric.capitalize()} is\", len(result))\n",
      "/usr/local/lib/python3.13/dist-packages/sklearn/metrics/_classification.py:1565: UndefinedMetricWarning: Recall is ill-defined and being set to 0.0 in labels with no true samples. Use `zero_division` parameter to control this behavior.\n",
      "  _warn_prf(average, modifier, f\"{metric.capitalize()} is\", len(result))\n",
      "/usr/local/lib/python3.13/dist-packages/sklearn/metrics/_classification.py:1565: UndefinedMetricWarning: Recall is ill-defined and being set to 0.0 in labels with no true samples. Use `zero_division` parameter to control this behavior.\n",
      "  _warn_prf(average, modifier, f\"{metric.capitalize()} is\", len(result))\n"
     ]
    },
    {
     "data": {
      "text/plain": [
       "{'0': {'precision': 0.0, 'recall': 0.0, 'f1-score': 0.0, 'support': 0.0},\n",
       " '1': {'precision': 0.3228346456692913,\n",
       "  'recall': 0.17118997912317327,\n",
       "  'f1-score': 0.22373806275579808,\n",
       "  'support': 479.0},\n",
       " '2': {'precision': 0.2895927601809955,\n",
       "  'recall': 0.1419068736141907,\n",
       "  'f1-score': 0.19047619047619047,\n",
       "  'support': 451.0},\n",
       " '3': {'precision': 0.38639876352395675,\n",
       "  'recall': 0.44014084507042256,\n",
       "  'f1-score': 0.411522633744856,\n",
       "  'support': 568.0},\n",
       " '4': {'precision': 0.33935018050541516,\n",
       "  'recall': 0.18725099601593626,\n",
       "  'f1-score': 0.24133504492939667,\n",
       "  'support': 502.0},\n",
       " 'accuracy': 0.245,\n",
       " 'macro avg': {'precision': 0.26763526997593173,\n",
       "  'recall': 0.1880977387647446,\n",
       "  'f1-score': 0.21341438638124824,\n",
       "  'support': 2000.0},\n",
       " 'weighted avg': {'precision': 0.3375362092062727,\n",
       "  'recall': 0.245,\n",
       "  'f1-score': 0.2739851712432122,\n",
       "  'support': 2000.0}}"
      ]
     },
     "execution_count": 37,
     "metadata": {},
     "output_type": "execute_result"
    }
   ],
   "source": [
    "accuracy = accuracy_score(known_classes, prediction_classes)\n",
    "print(f\"Accuracy: {accuracy:.4f}\")\n",
    "\n",
    "classification_report(known_classes, prediction_classes,output_dict=True)\n"
   ]
  },
  {
   "cell_type": "code",
   "execution_count": null,
   "id": "6fdd801a-e80c-41aa-8df2-aeff9828532d",
   "metadata": {},
   "outputs": [],
   "source": []
  }
 ],
 "metadata": {
  "kernelspec": {
   "display_name": "Python 3 (ipykernel)",
   "language": "python",
   "name": "python3"
  },
  "language_info": {
   "codemirror_mode": {
    "name": "ipython",
    "version": 3
   },
   "file_extension": ".py",
   "mimetype": "text/x-python",
   "name": "python",
   "nbconvert_exporter": "python",
   "pygments_lexer": "ipython3",
   "version": "3.13.3"
  }
 },
 "nbformat": 4,
 "nbformat_minor": 5
}
