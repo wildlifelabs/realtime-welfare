{
 "cells": [
  {
   "cell_type": "markdown",
   "id": "4995cf61fdc75a0d",
   "metadata": {},
   "source": [
    "# Location Analysis"
   ]
  },
  {
   "cell_type": "markdown",
   "id": "9fd41c58949df168",
   "metadata": {},
   "source": [
    "* Module Name: location.ipynb\n",
    "* Description: perform nalysis on location data we capture from the pipeline\n",
    "\n",
    "Copyright (C) 2025 J.Cincotta\n",
    "\n",
    "This program is free software: you can redistribute it and/or modify\n",
    "it under the terms of the GNU General Public License as published by\n",
    "the Free Software Foundation, either version 3 of the License, or\n",
    "(at your option) any later version.\n",
    "\n",
    "This program is distributed in the hope that it will be useful,\n",
    "but WITHOUT ANY WARRANTY; without even the implied warranty of\n",
    "MERCHANTABILITY or FITNESS FOR A PARTICULAR PURPOSE. See the\n",
    "GNU General Public License for more details.\n",
    "\n",
    "You should have received a copy of the GNU General Public License\n",
    "along with this program. If not, see <https://www.gnu.org/licenses/>.\n"
   ]
  },
  {
   "cell_type": "code",
   "execution_count": 1,
   "id": "90de6085c79bf63",
   "metadata": {
    "ExecuteTime": {
     "end_time": "2025-05-14T06:58:43.031442Z",
     "start_time": "2025-05-14T06:58:42.401752Z"
    }
   },
   "outputs": [],
   "source": [
    "from torch.nn.functional import threshold\n",
    "\n",
    "\"\"\"\n",
    "Configuration for this notebook:\n",
    "\"\"\"\n",
    "\n",
    "filename: str = \"final-output.csv\"\n",
    "historic_sample_window_size: int = 10\n",
    "dwell_distance_threshold: float = 5.0\n",
    "# this reflects the values in the COCOs training data\n",
    "names = [\"Zarafa\", \"Ebo\", \"Jimiyu\", \"Kito\"]"
   ]
  },
  {
   "cell_type": "markdown",
   "id": "3c962698910295a",
   "metadata": {},
   "source": [
    "## Import data \n",
    "\n",
    "Super quick and dirty CSV loader that parses the `( xx | zz )` coordinate strings back into a list of tuples.\n",
    "\n",
    "The resulting data structure is:\n",
    "\n",
    "* Sample dict with the keys representing samples.\n",
    "* Every sample contains a dict with key representing individuals identifier.\n",
    "* The content of the individual dict are two keys: \"intersect\" and \"timestamp\"\n",
    "* \"intersect\" contains an array of x,z coordinates as tuples."
   ]
  },
  {
   "cell_type": "code",
   "execution_count": 2,
   "id": "39aefd6d-fc7f-41e6-a416-aa0bef5154c9",
   "metadata": {
    "ExecuteTime": {
     "end_time": "2025-05-14T06:58:44.292769Z",
     "start_time": "2025-05-14T06:58:44.281670Z"
    }
   },
   "outputs": [
    {
     "name": "stdout",
     "output_type": "stream",
     "text": [
      "Imported final-output.csv with 16 rows containing 5 samples.\n"
     ]
    }
   ],
   "source": [
    "import csv\n",
    "from datetime import datetime\n",
    "\n",
    "\n",
    "def parse(src: str) -> list:\n",
    "    return [(int(o.partition(\"|\")[0].strip()), int(o.partition(\"|\")[2].strip())) for o in src.replace(\")\",\"\").split(\"(\") if o]\n",
    "\n",
    "\n",
    "samples: dict = {}\n",
    "row_count = 0\n",
    "sample_count = 0\n",
    "with open(filename, \"r\") as csvfile:\n",
    "    reader = csv.DictReader(csvfile)\n",
    "    for row in reader:\n",
    "        if int(row[\"sample\"].strip()) > sample_count:\n",
    "            sample_count = int(row[\"sample\"].strip())\n",
    "        sample = samples.get(row[\"sample\"], {})\n",
    "        identity = sample.get(row[\"identity\"], {})\n",
    "        identity[\"intersect\"] = parse(row[\"intersect\"])\n",
    "        identity[\"timestamp\"] = datetime.strptime(row[\"timestamp\"], '%Y-%m-%d %H:%M:%S')\n",
    "        sample[row[\"identity\"]] = identity\n",
    "        samples[row[\"sample\"]] = sample\n",
    "        row_count += 1\n",
    "\n",
    "print(f\"Imported {filename} with {row_count} rows containing {sample_count} samples.\")\n"
   ]
  },
  {
   "cell_type": "markdown",
   "id": "b188979d-03d5-42a5-9312-e2b32c10953f",
   "metadata": {},
   "source": [
    "## Identify individuals"
   ]
  },
  {
   "cell_type": "code",
   "execution_count": 3,
   "id": "54525701-ffa5-4da1-9d46-8f7d7cf08368",
   "metadata": {
    "ExecuteTime": {
     "end_time": "2025-05-14T06:58:45.371371Z",
     "start_time": "2025-05-14T06:58:45.364449Z"
    }
   },
   "outputs": [
    {
     "name": "stdout",
     "output_type": "stream",
     "text": [
      "Found the following individuals: ['Jimiyu', 'Zarafa', 'Ebo', 'Kito']\n"
     ]
    }
   ],
   "source": [
    "identities: list = []\n",
    "for sample in samples.keys():\n",
    "    for individual in samples[sample].keys():\n",
    "        if individual not in identities:\n",
    "            identities.append(individual)\n",
    "\n",
    "print(f\"Found the following individuals: {[names[int(o) - 1] for o in identities]}\")\n"
   ]
  },
  {
   "cell_type": "markdown",
   "id": "7cd87f277af6b4c8",
   "metadata": {},
   "source": [
    "## Identify the start and end time of the sampling period"
   ]
  },
  {
   "cell_type": "code",
   "execution_count": 4,
   "id": "3041844b6067fe8c",
   "metadata": {
    "ExecuteTime": {
     "end_time": "2025-05-14T07:17:42.063545Z",
     "start_time": "2025-05-14T07:17:42.056293Z"
    }
   },
   "outputs": [
    {
     "name": "stdout",
     "output_type": "stream",
     "text": [
      "Sample range: 2025-03-10 10:28:07 to 2025-03-10 10:28:27 (0:00:20)\n"
     ]
    }
   ],
   "source": [
    "from datetime import datetime\n",
    "\n",
    "\n",
    "times: list = []\n",
    "for sample in samples.keys():\n",
    "    for individual in samples[sample].keys():\n",
    "        times.append(samples[sample][individual][\"timestamp\"])\n",
    "        # print(samples[sample][individual][\"timestamp\"].strftime('%Y-%m-%d %H:%M:%S'))\n",
    "\n",
    "start_time = min(times)\n",
    "end_time = max(times)\n",
    "sampling_time_span = end_time - start_time\n",
    "\n",
    "print(f\"Sample range: {start_time.strftime('%Y-%m-%d %H:%M:%S')} to {end_time.strftime('%Y-%m-%d %H:%M:%S')} ({sampling_time_span})\")\n",
    "\n"
   ]
  },
  {
   "cell_type": "markdown",
   "id": "4b101886b244713d",
   "metadata": {},
   "source": [
    "## Identify the delta of the individual from the previous sample. \n",
    "\n",
    "This is achieved by using centroid distance between the clusters representing the location at two samples (times).\n",
    "\n",
    "Note that we can effectively use centroid distance and nothing more complex here since these points have been pre-processed with DBScan and outliers have been removed already."
   ]
  },
  {
   "cell_type": "code",
   "execution_count": 5,
   "id": "d976e533-4e96-48ee-a3c7-133430318f1b",
   "metadata": {
    "ExecuteTime": {
     "end_time": "2025-05-14T06:58:49.689883Z",
     "start_time": "2025-05-14T06:58:49.682170Z"
    }
   },
   "outputs": [
    {
     "name": "stdout",
     "output_type": "stream",
     "text": [
      "Calculated centroids for 5 samples.\n"
     ]
    }
   ],
   "source": [
    "import numpy as np\n",
    "\n",
    "\n",
    "def centroid_distance(cluster1, cluster2):\n",
    "    centroid1 = np.mean(cluster1, axis=0)\n",
    "    centroid2 = np.mean(cluster2, axis=0)\n",
    "    return np.linalg.norm(centroid1 - centroid2)\n",
    "\n",
    "\n",
    "previous_sample_key = None\n",
    "for sample_key in samples.keys():\n",
    "    for identity_key in identities:\n",
    "        if identity_key in samples[sample_key].keys():\n",
    "            samples[sample_key][identity_key][\"centroid-distance\"] = 0\n",
    "            if previous_sample_key in samples.keys():\n",
    "                if identity_key in samples[sample_key].keys() and identity_key in samples[previous_sample_key].keys():\n",
    "                    samples[sample_key][identity_key][\"centroid-distance\"] = float(centroid_distance(\n",
    "                        np.array(samples[sample_key][identity_key][\"intersect\"]),\n",
    "                        np.array(samples[previous_sample_key][identity_key][\"intersect\"])\n",
    "                    ))\n",
    "\n",
    "    previous_sample_key = sample_key\n",
    "\n",
    "print(f\"Calculated centroids for {len(samples)} samples.\")\n"
   ]
  },
  {
   "cell_type": "markdown",
   "id": "6a219a857244a4e4",
   "metadata": {},
   "source": [
    "## Use thresholding to deterime the difference between dwell and locomotion"
   ]
  },
  {
   "cell_type": "code",
   "execution_count": 6,
   "id": "49384d1de8410cd0",
   "metadata": {
    "ExecuteTime": {
     "end_time": "2025-05-14T06:58:53.265702Z",
     "start_time": "2025-05-14T06:58:53.257784Z"
    }
   },
   "outputs": [
    {
     "name": "stdout",
     "output_type": "stream",
     "text": [
      "Calculated threshold and actions for 5 samples.\n"
     ]
    }
   ],
   "source": [
    "import numpy as np\n",
    "\n",
    "\n",
    "def centroid_distance(cluster1, cluster2):\n",
    "    centroid1 = np.mean(cluster1, axis=0)\n",
    "    centroid2 = np.mean(cluster2, axis=0)\n",
    "    return np.linalg.norm(centroid1 - centroid2)\n",
    "\n",
    "\n",
    "identity_history: dict = {}\n",
    "tmp_ss = historic_sample_window_size * -1\n",
    "\n",
    "for identity_key in identities:\n",
    "    identity_history[identity_key] = []\n",
    "\n",
    "for sample_key in samples.keys():\n",
    "    for identity_key in identities:\n",
    "        if identity_key in samples[sample_key].keys():\n",
    "            identity_history[identity_key].append(samples[sample_key][identity_key][\"centroid-distance\"])\n",
    "            threshold_value = sum(identity_history[identity_key][tmp_ss:])\n",
    "            samples[sample_key][identity_key][\"action-threshold\"] = threshold_value\n",
    "            if threshold_value < dwell_distance_threshold:\n",
    "                samples[sample_key][identity_key][\"action-label\"] = \"dwell\"\n",
    "            else:\n",
    "                samples[sample_key][identity_key][\"action-label\"] = \"move\"\n",
    "        else:\n",
    "            samples[sample_key][identity_key] = {}\n",
    "            samples[sample_key][identity_key][\"action-label\"] = \"not-detected\"\n",
    "            samples[sample_key][identity_key][\"action-threshold\"] = 0\n",
    "            samples[sample_key][identity_key][\"centroid-distance\"] = 0\n",
    "            samples[sample_key][identity_key][\"intersect\"] = None\n",
    "\n",
    "print(f\"Calculated threshold and actions for {len(samples)} samples.\")\n"
   ]
  },
  {
   "cell_type": "markdown",
   "id": "183fd81a-7c7c-42f2-bc0b-d9c889e77844",
   "metadata": {},
   "source": [
    "## Summarise usage"
   ]
  },
  {
   "cell_type": "code",
   "execution_count": null,
   "id": "b91d1cf9-7c43-4591-8f86-25ab8c900b72",
   "metadata": {},
   "outputs": [],
   "source": [
    "for identity_key in identities:\n",
    "    points = None\n",
    "    for sample_key in samples.keys():\n",
    "        "
   ]
  },
  {
   "cell_type": "markdown",
   "id": "7ea3aa930265117e",
   "metadata": {},
   "source": [
    "## Use convex hull to identify habitat usage (area covered by samples over mapped habitat area)"
   ]
  },
  {
   "cell_type": "code",
   "execution_count": 7,
   "id": "8ceba3bcc6666b2c",
   "metadata": {
    "ExecuteTime": {
     "end_time": "2025-05-14T07:00:19.522248Z",
     "start_time": "2025-05-14T07:00:19.517906Z"
    }
   },
   "outputs": [
    {
     "name": "stdout",
     "output_type": "stream",
     "text": [
      "Over the period 0:00:20 =>  Jimiyu area usage 1.070887979490646% of total measured area.\n",
      "Over the period 0:00:20 =>  Zarafa area usage 0.9983632459724945% of total measured area.\n",
      "Over the period 0:00:20 =>  Ebo area usage 0.8064418816873283% of total measured area.\n",
      "Over the period 0:00:20 =>  Kito area usage 1.0420026048361533% of total measured area.\n"
     ]
    }
   ],
   "source": [
    "from scipy.spatial import ConvexHull\n",
    "\n",
    "\n",
    "for identity_key in identities:\n",
    "    points = None\n",
    "    for sample_key in samples.keys():\n",
    "        if samples[sample_key][identity_key][\"intersect\"] is not None:\n",
    "            if points is None:\n",
    "                points = np.array(samples[sample_key][identity_key][\"intersect\"])\n",
    "            else:\n",
    "                points = np.concatenate((points, np.array(samples[sample_key][identity_key][\"intersect\"])), axis=0)\n",
    "    hull = ConvexHull(points + 128)\n",
    "    area = hull.area\n",
    "    print(f\"Over the period {sampling_time_span} =>  {names[int(identity_key) - 1]} area usage {(area/(255*255)*100)}% of total measured area.\")\n"
   ]
  },
  {
   "cell_type": "markdown",
   "id": "8bcc99eeb801f70b",
   "metadata": {},
   "source": [
    "Use clustering to identify towering"
   ]
  },
  {
   "cell_type": "code",
   "execution_count": null,
   "id": "375abf7423f1cad5",
   "metadata": {},
   "outputs": [],
   "source": []
  },
  {
   "cell_type": "markdown",
   "id": "ebf7df95-a06a-474e-9eff-b639b2e9968d",
   "metadata": {},
   "source": [
    "## Heatmap"
   ]
  },
  {
   "cell_type": "code",
   "execution_count": 11,
   "id": "13245cb8-301a-43a6-803e-977a76558574",
   "metadata": {},
   "outputs": [
    {
     "name": "stdout",
     "output_type": "stream",
     "text": [
      "Found the following individuals: ['Jimiyu', 'Zarafa', 'Ebo', 'Kito']\n"
     ]
    },
    {
     "data": {
      "image/png": "[encoded data removed]",
      "text/plain": [
       "<Figure size 2000x600 with 4 Axes>"
      ]
     },
     "metadata": {},
     "output_type": "display_data"
    }
   ],
   "source": [
    "import numpy as np\n",
    "import seaborn as sns\n",
    "import matplotlib.pyplot as plt\n",
    "\n",
    "# Parameters for the random walk\n",
    "grid_size = 32   # Size of the 2D grid\n",
    "map_size = 256\n",
    "reduction = map_size / grid_size\n",
    "identity_grids = {}\n",
    "\n",
    "for identity_key in identities:\n",
    "    identity_grids[identity_key] = np.zeros((grid_size, grid_size))\n",
    "    points = None\n",
    "    for sample_key in samples.keys():\n",
    "        if samples[sample_key][identity_key][\"intersect\"] is not None:\n",
    "            if points is None:\n",
    "                points = np.array(samples[sample_key][identity_key][\"intersect\"])\n",
    "            else:\n",
    "                points = np.concatenate((points, np.array(samples[sample_key][identity_key][\"intersect\"])), axis=0)\n",
    "    points += 128\n",
    "    for x, y in points:\n",
    "        identity_grids[identity_key][int(x/reduction), int(y/reduction)] += 1\n",
    "\n",
    "fig, axes = plt.subplots(1, len(identity_grids.keys()), figsize=(20, 6))\n",
    "\n",
    "for ax, grid in zip(axes, identity_grids.values()):\n",
    "    sns.heatmap(\n",
    "        grid, \n",
    "        cmap=\"Reds\", \n",
    "        alpha=1.0, \n",
    "        cbar=False, \n",
    "        mask=np.where(grid > 0.25, 0, 1), \n",
    "        ax=ax,\n",
    "        xticklabels=False,\n",
    "        yticklabels=False        \n",
    "    )\n",
    "\n",
    "print(f\"Found the following individuals: {[names[int(o) - 1] for o in identities]}\")\n",
    "\n",
    "for index, i in enumerate(identities):\n",
    "    axes[index].set_title(names[int(i) - 1])\n",
    "plt.show()"
   ]
  },
  {
   "cell_type": "code",
   "execution_count": null,
   "id": "e26f63ff-b553-435a-abb0-64e19df17e54",
   "metadata": {},
   "outputs": [],
   "source": []
  }
 ],
 "metadata": {
  "kernelspec": {
   "display_name": "Python 3 (ipykernel)",
   "language": "python",
   "name": "python3"
  },
  "language_info": {
   "codemirror_mode": {
    "name": "ipython",
    "version": 3
   },
   "file_extension": ".py",
   "mimetype": "text/x-python",
   "name": "python",
   "nbconvert_exporter": "python",
   "pygments_lexer": "ipython3",
   "version": "3.13.3"
  }
 },
 "nbformat": 4,
 "nbformat_minor": 5
}
