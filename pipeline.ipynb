{
 "cells": [
  {
   "cell_type": "code",
   "execution_count": null,
   "id": "initial_id",
   "metadata": {
    "collapsed": true
   },
   "outputs": [],
   "source": [
    "from welfareobs.utils.performance_monitor import PerformanceMonitor\n",
    "from welfareobs.runner import Runner\n",
    "from welfareobs.utils.config import Config\n",
    "import matplotlib.pyplot as plt\n",
    "\n",
    "\n",
    "cfg: Config = Config(\n",
    "    \"/project/config/non-rtsp-example.json\",\n",
    "    \"/project/welfareobs/welfareobs\"\n",
    ")\n",
    "\n",
    "runner: Runner = Runner(cfg)\n",
    "runner.run(100) # this matches the performance-history-size configuration\n",
    "\n",
    "perf: PerformanceMonitor = runner.performance\n",
    "step_perfs: list[PerformanceMonitor] = []\n",
    "for i in range(runner.len_steps()):\n",
    "    step_perfs.append(runner.get_step(i).performance)\n",
    "\n",
    "execution_times = list(perf)\n",
    "\n",
    "# Calculate statistics\n",
    "avg_time = perf.average()\n",
    "median_time = perf.median()\n",
    "stdev_time = perf.stdev()\n",
    "\n",
    "# Create the plot\n",
    "plt.figure(figsize=(10, 6))\n",
    "for i, perf in enumerate(step_perfs):\n",
    "    execution_times = list(perf)\n",
    "    avg_time = perf.average()\n",
    "    median_time = perf.median()\n",
    "    stdev_time = perf.stdev()\n",
    "\n",
    "    plt.plot(execution_times, label=f'{perf.label}')\n",
    "    plt.axhline(y=avg_time, color=plt.cm.tab20(i), linestyle='--', alpha=0.5)\n",
    "    plt.axhline(y=median_time, color=plt.cm.tab20(i), linestyle=':', alpha=0.5)\n",
    "\n",
    "plt.plot(execution_times)\n",
    "plt.axhline(y=avg_time, color='r', linestyle='-', label=f'Average: {avg_time:.2f} sec')\n",
    "plt.axhline(y=median_time, color='g', linestyle='--', label=f'Median: {median_time:.2f} sec')\n",
    "plt.fill_between(range(len(execution_times)), [t - stdev_time for t in execution_times], [t + stdev_time for t in execution_times], alpha=0.2, label=f'StDev: {stdev_time:.2f} sec')\n",
    "plt.title('Execution Times')\n",
    "plt.xlabel('Run Number')\n",
    "plt.ylabel('Time (seconds)')\n",
    "plt.legend()\n",
    "plt.show()\n"
   ]
  }
 ],
 "metadata": {
  "kernelspec": {
   "display_name": "Python 3",
   "language": "python",
   "name": "python3"
  },
  "language_info": {
   "codemirror_mode": {
    "name": "ipython",
    "version": 2
   },
   "file_extension": ".py",
   "mimetype": "text/x-python",
   "name": "python",
   "nbconvert_exporter": "python",
   "pygments_lexer": "ipython2",
   "version": "2.7.6"
  }
 },
 "nbformat": 4,
 "nbformat_minor": 5
}
