{
 "cells": [
  {
   "cell_type": "code",
   "execution_count": null,
   "id": "initial_id",
   "metadata": {
    "ExecuteTime": {
     "end_time": "2025-04-10T04:37:10.251112Z",
     "start_time": "2025-04-10T04:37:07.628517Z"
    }
   },
   "outputs": [
    {
     "name": "stderr",
     "output_type": "stream",
     "text": [
      "INFO:datasets:PyTorch version 2.6.0 available.\n"
     ]
    },
    {
     "name": "stdout",
     "output_type": "stream",
     "text": [
      "Calling setup\n",
      "camera-1 calling setup\n",
      "found 21845 files\n",
      "detection-1 calling setup\n"
     ]
    },
    {
     "name": "stderr",
     "output_type": "stream",
     "text": [
      "INFO:timm.models._builder:Loading pretrained weights from Hugging Face hub (BVRA/wildlife-mega-L-384)\n",
      "INFO:detectron2.checkpoint.detection_checkpoint:[DetectionCheckpointer] Loading from /project/data/detectron2_models/mask_rcnn_R_101_FPN_3x/model_final_a3ec72.pkl ...\n",
      "INFO:fvcore.common.checkpoint:[Checkpointer] Loading from /project/data/detectron2_models/mask_rcnn_R_101_FPN_3x/model_final_a3ec72.pkl ...\n",
      "INFO:fvcore.common.checkpoint:Reading a file from 'Detectron2 Model Zoo'\n"
     ]
    },
    {
     "name": "stdout",
     "output_type": "stream",
     "text": [
      "location-1 calling setup\n",
      "aggregator calling setup\n",
      "payload-create calling setup\n",
      "payload-extract calling setup\n",
      "local-save calling setup\n",
      "run pass 100 step step-1\n",
      "step-1: run=1 time=0.0002810955047607422 avg=0.0 sd=0\n",
      "run pass 100 step step-2\n",
      "detectron:image_tensor: run=1 time=0.20154476165771484 avg=0.202 sd=0\n"
     ]
    },
    {
     "name": "stderr",
     "output_type": "stream",
     "text": [
      "/usr/local/lib/python3.11/dist-packages/torch/functional.py:539: UserWarning: torch.meshgrid: in an upcoming release, it will be required to pass the indexing argument. (Triggered internally at /pytorch/aten/src/ATen/native/TensorShape.cpp:3637.)\n",
      "  return _VF.meshgrid(tensors, **kwargs)  # type: ignore[attr-defined]\n"
     ]
    },
    {
     "name": "stdout",
     "output_type": "stream",
     "text": [
      "ReIdROIHeads:Segmentation: run=1 time=1.861020565032959 avg=1.861 sd=0\n",
      "ReIdROIHeads:Reidentification: run=1 time=10.6560800075531 avg=10.656 sd=0\n",
      "ReIdROIHeads:Reidentification: run=2 time=9.930105447769165 avg=10.293 sd=0.513\n",
      "ReIdROIHeads:Reidentification: run=3 time=11.07852840423584 avg=10.555 sd=0.581\n",
      "ReIdROIHeads:Reidentification: run=4 time=10.439934730529785 avg=10.526 sd=0.478\n",
      "ReIdROIHeads:Reidentification: run=5 time=10.805878639221191 avg=10.582 sd=0.432\n",
      "ReIdROIHeads:Reidentification: run=6 time=10.351473093032837 avg=10.544 sd=0.398\n",
      "ReIdROIHeads:Reidentification: run=7 time=11.043956518173218 avg=10.615 sd=0.41\n",
      "ReIdROIHeads:Reidentification: run=8 time=10.808743715286255 avg=10.639 sd=0.385\n",
      "ReIdROIHeads:Reidentification: run=9 time=10.906371116638184 avg=10.669 sd=0.371\n"
     ]
    }
   ],
   "source": [
    "from welfareobs.utils.performance_monitor import PerformanceMonitor\n",
    "from welfareobs.runner import Runner\n",
    "from welfareobs.utils.config import Config\n",
    "import matplotlib.pyplot as plt\n",
    "\n",
    "\n",
    "cfg: Config = Config(\n",
    "    \"/project/config/non-rtsp-example.json\",\n",
    "    \"/project/welfareobs/welfareobs\"\n",
    ")\n",
    "\n",
    "runner: Runner = Runner(cfg)\n",
    "runner.run(100) # this matches the performance-history-size configuration\n",
    "\n",
    "perf: PerformanceMonitor = runner.performance\n",
    "step_perfs: list[PerformanceMonitor] = []\n",
    "for i in range(runner.len_steps()):\n",
    "    step_perfs.append(runner.get_step(i).performance)\n",
    "\n",
    "execution_times = list(perf)\n",
    "\n",
    "# Calculate statistics\n",
    "avg_time = perf.average()\n",
    "median_time = perf.median()\n",
    "stdev_time = perf.stdev()\n",
    "\n",
    "# Create the plot\n",
    "plt.figure(figsize=(10, 6))\n",
    "for i, perf in enumerate(step_perfs):\n",
    "    execution_times = list(perf)\n",
    "    avg_time = perf.average()\n",
    "    median_time = perf.median()\n",
    "    stdev_time = perf.stdev()\n",
    "\n",
    "    plt.plot(execution_times, label=f'{perf.label}')\n",
    "    plt.axhline(y=avg_time, color=plt.cm.tab20(i), linestyle='--', alpha=0.5)\n",
    "    plt.axhline(y=median_time, color=plt.cm.tab20(i), linestyle=':', alpha=0.5)\n",
    "\n",
    "plt.plot(execution_times)\n",
    "plt.axhline(y=avg_time, color='r', linestyle='-', label=f'Average: {avg_time:.2f} sec')\n",
    "plt.axhline(y=median_time, color='g', linestyle='--', label=f'Median: {median_time:.2f} sec')\n",
    "plt.fill_between(range(len(execution_times)), [t - stdev_time for t in execution_times], [t + stdev_time for t in execution_times], alpha=0.2, label=f'StDev: {stdev_time:.2f} sec')\n",
    "plt.title('Execution Times')\n",
    "plt.xlabel('Run Number')\n",
    "plt.ylabel('Time (seconds)')\n",
    "plt.legend()\n",
    "plt.show()\n"
   ]
  },
  {
   "cell_type": "code",
   "execution_count": null,
   "id": "09f1472e-07ba-4b14-8066-0cbdc916024a",
   "metadata": {},
   "outputs": [],
   "source": []
  },
  {
   "cell_type": "code",
   "execution_count": null,
   "id": "d1eb3509-7363-4082-acdb-ee7af30fce96",
   "metadata": {},
   "outputs": [],
   "source": []
  }
 ],
 "metadata": {
  "kernelspec": {
   "display_name": "Python 3 (ipykernel)",
   "language": "python",
   "name": "python3"
  },
  "language_info": {
   "codemirror_mode": {
    "name": "ipython",
    "version": 3
   },
   "file_extension": ".py",
   "mimetype": "text/x-python",
   "name": "python",
   "nbconvert_exporter": "python",
   "pygments_lexer": "ipython3",
   "version": "3.11.12"
  }
 },
 "nbformat": 4,
 "nbformat_minor": 5
}
