{
 "cells": [
  {
   "cell_type": "markdown",
   "id": "287d7ecb-da38-4326-88c3-9783d3107514",
   "metadata": {},
   "source": [
    "# GCP Workbook"
   ]
  },
  {
   "cell_type": "markdown",
   "id": "438fc125-b24b-4e3d-9cc6-2f8aaa206f06",
   "metadata": {},
   "source": [
    "* Module Name: gcp.ipynb\n",
    "* Description: ground control points are used to calibrate the performance of multi camera homography\n",
    "\n",
    "Copyright (C) 2025 J.Cincotta\n",
    "\n",
    "This program is free software: you can redistribute it and/or modify\n",
    "it under the terms of the GNU General Public License as published by\n",
    "the Free Software Foundation, either version 3 of the License, or\n",
    "(at your option) any later version.\n",
    "\n",
    "This program is distributed in the hope that it will be useful,\n",
    "but WITHOUT ANY WARRANTY; without even the implied warranty of\n",
    "MERCHANTABILITY or FITNESS FOR A PARTICULAR PURPOSE. See the\n",
    "GNU General Public License for more details.\n",
    "\n",
    "You should have received a copy of the GNU General Public License\n",
    "along with this program. If not, see <https://www.gnu.org/licenses/>.\n"
   ]
  },
  {
   "cell_type": "code",
   "execution_count": null,
   "id": "9cdc90b4-976b-46e9-b519-189c4247faf9",
   "metadata": {},
   "outputs": [],
   "source": []
  }
 ],
 "metadata": {
  "kernelspec": {
   "display_name": "Python 3 (ipykernel)",
   "language": "python",
   "name": "python3"
  },
  "language_info": {
   "codemirror_mode": {
    "name": "ipython",
    "version": 3
   },
   "file_extension": ".py",
   "mimetype": "text/x-python",
   "name": "python",
   "nbconvert_exporter": "python",
   "pygments_lexer": "ipython3",
   "version": "3.13.3"
  }
 },
 "nbformat": 4,
 "nbformat_minor": 5
}
