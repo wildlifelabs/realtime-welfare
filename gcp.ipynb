{
 "cells": [
  {
   "cell_type": "markdown",
   "id": "287d7ecb-da38-4326-88c3-9783d3107514",
   "metadata": {},
   "source": [
    "# GCP Analysis"
   ]
  },
  {
   "cell_type": "markdown",
   "id": "438fc125-b24b-4e3d-9cc6-2f8aaa206f06",
   "metadata": {},
   "source": [
    "* Module Name: gcp.ipynb\n",
    "* Description: ground control points are used to calibrate the performance of multi camera homography\n",
    "\n",
    "Copyright (C) 2025 J.Cincotta\n",
    "\n",
    "This program is free software: you can redistribute it and/or modify\n",
    "it under the terms of the GNU General Public License as published by\n",
    "the Free Software Foundation, either version 3 of the License, or\n",
    "(at your option) any later version.\n",
    "\n",
    "This program is distributed in the hope that it will be useful,\n",
    "but WITHOUT ANY WARRANTY; without even the implied warranty of\n",
    "MERCHANTABILITY or FITNESS FOR A PARTICULAR PURPOSE. See the\n",
    "GNU General Public License for more details.\n",
    "\n",
    "You should have received a copy of the GNU General Public License\n",
    "along with this program. If not, see <https://www.gnu.org/licenses/>.\n"
   ]
  },
  {
   "cell_type": "code",
   "execution_count": 1,
   "id": "cd7c2916-1dcf-49da-9c90-9d8db7e842da",
   "metadata": {},
   "outputs": [],
   "source": [
    "\"\"\"\n",
    "Configuration for this Notebook:\n",
    "\"\"\"\n",
    "filenames: list[str] = [\n",
    "    \"camera-gcp-tool/data/c1-export.csv\",\n",
    "    \"camera-gcp-tool/data/c2-export.csv\",\n",
    "    \"camera-gcp-tool/data/c3-export.csv\"\n",
    "]\n"
   ]
  },
  {
   "cell_type": "markdown",
   "id": "1840d478-a201-48c1-8fbf-8caf922de812",
   "metadata": {},
   "source": [
    "## Import data \n",
    "\n",
    "CSV loader.\n"
   ]
  },
  {
   "cell_type": "code",
   "execution_count": 10,
   "id": "8b9aa334-ff1d-4f12-b9df-5a585d5cb645",
   "metadata": {},
   "outputs": [
    {
     "name": "stdout",
     "output_type": "stream",
     "text": [
      "Imported camera-gcp-tool/data/c1-export.csv with 7 rows.\n",
      "Imported camera-gcp-tool/data/c2-export.csv with 7 rows.\n",
      "Imported camera-gcp-tool/data/c3-export.csv with 7 rows.\n",
      "[{'0': (-1, -1), '1': (10, -1), '2': (-1, 11), '3': (11, 10), '4': (50, -28), '5': (-17, -8), '6': (62, 78)}, {'0': (-1, -1), '1': (11, -2), '2': (-1, 10), '3': (10, 10), '4': (54, -39), '5': (-21, -24), '6': (68, 71)}, {'0': (-1, -1), '1': (11, -1), '2': (-2, 11), '3': (10, 10), '4': (54, -42), '5': (-20, -23), '6': (77, 84)}]\n"
     ]
    }
   ],
   "source": [
    "import csv\n",
    "\n",
    "\n",
    "def load_csv(filename):\n",
    "    output: dict = {}\n",
    "    row_count = 0\n",
    "    with open(filename, \"r\") as csvfile:\n",
    "        reader = csv.DictReader(csvfile)\n",
    "        for row in reader:\n",
    "            output[row[\"gcp\"]] = (int(row[\"transformed-x\"]), int(row[\"transformed-z\"]))\n",
    "            row_count += 1\n",
    "        print(f\"Imported {filename} with {row_count} rows.\")\n",
    "    return output\n",
    "\n",
    "cameras: list = []\n",
    "for filename in filenames:\n",
    "    cameras.append(load_csv(filename))\n"
   ]
  },
  {
   "cell_type": "markdown",
   "id": "32217a8c-0e1f-4082-b2dc-040665c54713",
   "metadata": {},
   "source": [
    "## Mapping of GCP to Homography\n",
    "\n",
    "We know the measurements of the calibration square are 1800 x 1800. In our homographic transform, we also know this equates to 10x10 units in the homograpic lookup (homographic units). Therefore, 180mm is 1 homographic unit in our mapping model.\n",
    "\n",
    "This makes the first four coordinates of the GCP are:\n",
    "* GCP-1 = 0,0\n",
    "* GCP-2 = 10,0\n",
    "* GCP-3 = 0,10\n",
    "* GCP-4 = 10,10\n",
    "\n",
    "We can validate the other GCP using this insight and given we know the euclidean distance from 0,0 to each of the other GCP on the map, we should see the following ratios agreed with (or not!):\n",
    "* GCP-1 to GCP-4 = 14.14 homographic units (2546mm)\n",
    "* GCP-1 to GCP-5 = 56.56 homographic units (10181mm)\n",
    "* GCP-1 to GCP-6 = 32.23 homographic units (5801mm)\n",
    "* GCP-1 to GCP-7 = 85.28 homographic units (15350mm)\n"
   ]
  },
  {
   "cell_type": "code",
   "execution_count": 17,
   "id": "66197d2f-00f7-4968-a53f-8c260efe7784",
   "metadata": {},
   "outputs": [],
   "source": [
    "# based on the above knowledge, we set up a known distances\n",
    "known_distances: list = [0, 10, 10, 14.14, 56.56, 32.23, 85.28]"
   ]
  },
  {
   "cell_type": "markdown",
   "id": "e496e535-75a7-4bac-a7f4-c697dd41b1ff",
   "metadata": {},
   "source": [
    "## Calculate homographic distances\n"
   ]
  },
  {
   "cell_type": "code",
   "execution_count": 18,
   "id": "44aa3b13-e08a-4482-b987-3f0a66bccf92",
   "metadata": {},
   "outputs": [],
   "source": [
    "def euclidan_distance(src,dst) -> float:\n",
    "    src_x, src_z = src\n",
    "    dst_x, dst_z = dst\n",
    "    return (((dst_x - src_x) ** 2) + ((dst_z - src_z) ** 2)) ** 0.5\n",
    "\n",
    "output = []\n",
    "for camera, gcps in enumerate(cameras):\n",
    "    output.append({})\n",
    "    basis = gcps[\"0\"]\n",
    "    for index, gcp in enumerate(gcps.keys()):\n",
    "        output[camera][gcp] = euclidan_distance(basis, gcps[gcp])\n",
    "        "
   ]
  },
  {
   "cell_type": "markdown",
   "id": "93166a3a-c505-437a-bde2-be5fc9a8a3ed",
   "metadata": {},
   "source": [
    "## Data validation (dumps)"
   ]
  },
  {
   "cell_type": "code",
   "execution_count": 19,
   "id": "07283b41-7b8b-42a5-8bd5-0be3ee7c57dd",
   "metadata": {},
   "outputs": [
    {
     "name": "stdout",
     "output_type": "stream",
     "text": [
      "{'0': (-1, -1), '1': (10, -1), '2': (-1, 11), '3': (11, 10), '4': (50, -28), '5': (-17, -8), '6': (62, 78)}\n",
      "{'0': (-1, -1), '1': (11, -2), '2': (-1, 10), '3': (10, 10), '4': (54, -39), '5': (-21, -24), '6': (68, 71)}\n",
      "{'0': (-1, -1), '1': (11, -1), '2': (-2, 11), '3': (10, 10), '4': (54, -42), '5': (-20, -23), '6': (77, 84)}\n",
      "{'0': 0.0, '1': 11.0, '2': 12.0, '3': 16.278820596099706, '4': 57.706152185014034, '5': 17.46424919657298, '6': 101.04454463255303}\n",
      "{'0': 0.0, '1': 12.041594578792296, '2': 11.0, '3': 15.556349186104045, '4': 66.85057965343307, '5': 30.479501308256342, '6': 99.72462083156798}\n",
      "{'0': 0.0, '1': 12.0, '2': 12.041594578792296, '3': 15.556349186104045, '4': 68.60029154456998, '5': 29.068883707497267, '6': 115.36463929644994}\n"
     ]
    }
   ],
   "source": [
    "for gcps in cameras:\n",
    "    print(gcps)\n",
    "\n",
    "for eds in output:\n",
    "    print(eds)"
   ]
  },
  {
   "cell_type": "markdown",
   "id": "b751775c-a6f6-4219-aaf6-83a85a7828b2",
   "metadata": {},
   "source": [
    "## Output for table\n"
   ]
  },
  {
   "cell_type": "code",
   "execution_count": 30,
   "id": "13ee54fa-3ec3-4197-a0d3-e98cae090142",
   "metadata": {},
   "outputs": [
    {
     "name": "stdout",
     "output_type": "stream",
     "text": [
      "Results for camera 1\n",
      "GCP-1 to GCP-1 error: 0.0\n",
      "GCP-1 to GCP-2 error: -1.0\n",
      "GCP-1 to GCP-3 error: -2.0\n",
      "GCP-1 to GCP-4 error: -2.1388205960997055\n",
      "GCP-1 to GCP-5 error: -1.1461521850140315\n",
      "GCP-1 to GCP-6 error: 14.765750803427018\n",
      "GCP-1 to GCP-7 error: -15.764544632553026\n",
      "RMSE is 3.121474280914666\n",
      "\n",
      "\n",
      "Results for camera 2\n",
      "GCP-1 to GCP-1 error: 0.0\n",
      "GCP-1 to GCP-2 error: -2.0415945787922958\n",
      "GCP-1 to GCP-3 error: -1.0\n",
      "GCP-1 to GCP-4 error: -1.4163491861040445\n",
      "GCP-1 to GCP-5 error: -10.29057965343307\n",
      "GCP-1 to GCP-6 error: 1.7504986917436547\n",
      "GCP-1 to GCP-7 error: -14.444620831567974\n",
      "RMSE is 2.574527892851093\n",
      "\n",
      "\n",
      "Results for camera 3\n",
      "GCP-1 to GCP-1 error: 0.0\n",
      "GCP-1 to GCP-2 error: -2.0\n",
      "GCP-1 to GCP-3 error: -2.0415945787922958\n",
      "GCP-1 to GCP-4 error: -1.4163491861040445\n",
      "GCP-1 to GCP-5 error: -12.040291544569982\n",
      "GCP-1 to GCP-6 error: 3.1611162925027294\n",
      "GCP-1 to GCP-7 error: -30.084639296449936\n",
      "RMSE is 4.6734616627174566\n",
      "\n",
      "\n",
      "RMSE for GCP-1 to GCP-1 is 0.0\n",
      "RMSE for GCP-1 to GCP-2 is 1.0092961477162683\n",
      "RMSE for GCP-1 to GCP-3 is 1.0092961477162683\n",
      "RMSE for GCP-1 to GCP-4 is 0.9767658411681026\n",
      "RMSE for GCP-1 to GCP-5 is 5.293374421682539\n",
      "RMSE for GCP-1 to GCP-6 is 5.067152374454162\n",
      "RMSE for GCP-1 to GCP-7 is 12.302905980282434\n"
     ]
    }
   ],
   "source": [
    "gcp_distances: dict = {}\n",
    "\n",
    "\n",
    "for camera, gcps in enumerate(output):\n",
    "    print(f\"Results for camera {camera + 1}\")\n",
    "    distances = []\n",
    "    for index, value in enumerate(gcps.values()):\n",
    "        d_sub = gcp_distances.get(f\"GCP-1 to GCP-{index+1}\", [])\n",
    "        d = known_distances[index] - value\n",
    "        print(f\"GCP-1 to GCP-{index+1} error: {d}\")\n",
    "        distances.append(d)\n",
    "        d_sub.append(d)\n",
    "        gcp_distances[f\"GCP-1 to GCP-{index+1}\"] = d_sub\n",
    "    print(f\"RMSE is {((sum([x**2 for x in distances]) ** 0.5) / len(distances))}\")\n",
    "    print()\n",
    "    print()\n",
    "\n",
    "for dkey in gcp_distances.keys():\n",
    "    print(f\"RMSE for {dkey} is {((sum([x**2 for x in gcp_distances[dkey]]) ** 0.5) / len(gcp_distances[dkey]))}\")\n",
    "    "
   ]
  },
  {
   "cell_type": "code",
   "execution_count": null,
   "id": "79e3ce1f-fc4e-4512-99e5-dd35ecfd8145",
   "metadata": {},
   "outputs": [],
   "source": []
  }
 ],
 "metadata": {
  "kernelspec": {
   "display_name": "Python 3 (ipykernel)",
   "language": "python",
   "name": "python3"
  },
  "language_info": {
   "codemirror_mode": {
    "name": "ipython",
    "version": 3
   },
   "file_extension": ".py",
   "mimetype": "text/x-python",
   "name": "python",
   "nbconvert_exporter": "python",
   "pygments_lexer": "ipython3",
   "version": "3.13.3"
  }
 },
 "nbformat": 4,
 "nbformat_minor": 5
}
